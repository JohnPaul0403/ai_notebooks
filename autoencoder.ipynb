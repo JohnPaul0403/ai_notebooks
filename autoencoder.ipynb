{
  "nbformat": 4,
  "nbformat_minor": 0,
  "metadata": {
    "colab": {
      "provenance": [],
      "gpuType": "T4",
      "authorship_tag": "ABX9TyMiFyFWd2+wI38s24JnE2Wp",
      "include_colab_link": true
    },
    "kernelspec": {
      "name": "python3",
      "display_name": "Python 3"
    },
    "language_info": {
      "name": "python"
    },
    "accelerator": "GPU",
    "widgets": {
      "application/vnd.jupyter.widget-state+json": {
        "b21fed9aa0174d31be3a70d9d273df91": {
          "model_module": "@jupyter-widgets/controls",
          "model_name": "HBoxModel",
          "model_module_version": "1.5.0",
          "state": {
            "_dom_classes": [],
            "_model_module": "@jupyter-widgets/controls",
            "_model_module_version": "1.5.0",
            "_model_name": "HBoxModel",
            "_view_count": null,
            "_view_module": "@jupyter-widgets/controls",
            "_view_module_version": "1.5.0",
            "_view_name": "HBoxView",
            "box_style": "",
            "children": [
              "IPY_MODEL_7147102cf17348288ec2ef9fac239d02",
              "IPY_MODEL_a559e60c310a4673a3c43118d5cd8f95",
              "IPY_MODEL_e333ddf77f4e49e1b5225bde8ab5a818"
            ],
            "layout": "IPY_MODEL_a00970bfcbf040a7bc7b310cf91a72cd"
          }
        },
        "7147102cf17348288ec2ef9fac239d02": {
          "model_module": "@jupyter-widgets/controls",
          "model_name": "HTMLModel",
          "model_module_version": "1.5.0",
          "state": {
            "_dom_classes": [],
            "_model_module": "@jupyter-widgets/controls",
            "_model_module_version": "1.5.0",
            "_model_name": "HTMLModel",
            "_view_count": null,
            "_view_module": "@jupyter-widgets/controls",
            "_view_module_version": "1.5.0",
            "_view_name": "HTMLView",
            "description": "",
            "description_tooltip": null,
            "layout": "IPY_MODEL_95898aad812d4112ba503f307952589f",
            "placeholder": "​",
            "style": "IPY_MODEL_aaac0e3e9dc9498190660190890a4892",
            "value": "100%"
          }
        },
        "a559e60c310a4673a3c43118d5cd8f95": {
          "model_module": "@jupyter-widgets/controls",
          "model_name": "FloatProgressModel",
          "model_module_version": "1.5.0",
          "state": {
            "_dom_classes": [],
            "_model_module": "@jupyter-widgets/controls",
            "_model_module_version": "1.5.0",
            "_model_name": "FloatProgressModel",
            "_view_count": null,
            "_view_module": "@jupyter-widgets/controls",
            "_view_module_version": "1.5.0",
            "_view_name": "ProgressView",
            "bar_style": "success",
            "description": "",
            "description_tooltip": null,
            "layout": "IPY_MODEL_60fd2b972bbe4727a794f6272d22ffe7",
            "max": 10,
            "min": 0,
            "orientation": "horizontal",
            "style": "IPY_MODEL_8be27d015f7043789598537da5e22889",
            "value": 10
          }
        },
        "e333ddf77f4e49e1b5225bde8ab5a818": {
          "model_module": "@jupyter-widgets/controls",
          "model_name": "HTMLModel",
          "model_module_version": "1.5.0",
          "state": {
            "_dom_classes": [],
            "_model_module": "@jupyter-widgets/controls",
            "_model_module_version": "1.5.0",
            "_model_name": "HTMLModel",
            "_view_count": null,
            "_view_module": "@jupyter-widgets/controls",
            "_view_module_version": "1.5.0",
            "_view_name": "HTMLView",
            "description": "",
            "description_tooltip": null,
            "layout": "IPY_MODEL_1f8e95b76f194113ae2efc0b302691db",
            "placeholder": "​",
            "style": "IPY_MODEL_7e4b3b632ec54ded8545451e6b9a2ebe",
            "value": " 10/10 [00:35&lt;00:00,  3.61s/it]"
          }
        },
        "a00970bfcbf040a7bc7b310cf91a72cd": {
          "model_module": "@jupyter-widgets/base",
          "model_name": "LayoutModel",
          "model_module_version": "1.2.0",
          "state": {
            "_model_module": "@jupyter-widgets/base",
            "_model_module_version": "1.2.0",
            "_model_name": "LayoutModel",
            "_view_count": null,
            "_view_module": "@jupyter-widgets/base",
            "_view_module_version": "1.2.0",
            "_view_name": "LayoutView",
            "align_content": null,
            "align_items": null,
            "align_self": null,
            "border": null,
            "bottom": null,
            "display": null,
            "flex": null,
            "flex_flow": null,
            "grid_area": null,
            "grid_auto_columns": null,
            "grid_auto_flow": null,
            "grid_auto_rows": null,
            "grid_column": null,
            "grid_gap": null,
            "grid_row": null,
            "grid_template_areas": null,
            "grid_template_columns": null,
            "grid_template_rows": null,
            "height": null,
            "justify_content": null,
            "justify_items": null,
            "left": null,
            "margin": null,
            "max_height": null,
            "max_width": null,
            "min_height": null,
            "min_width": null,
            "object_fit": null,
            "object_position": null,
            "order": null,
            "overflow": null,
            "overflow_x": null,
            "overflow_y": null,
            "padding": null,
            "right": null,
            "top": null,
            "visibility": null,
            "width": null
          }
        },
        "95898aad812d4112ba503f307952589f": {
          "model_module": "@jupyter-widgets/base",
          "model_name": "LayoutModel",
          "model_module_version": "1.2.0",
          "state": {
            "_model_module": "@jupyter-widgets/base",
            "_model_module_version": "1.2.0",
            "_model_name": "LayoutModel",
            "_view_count": null,
            "_view_module": "@jupyter-widgets/base",
            "_view_module_version": "1.2.0",
            "_view_name": "LayoutView",
            "align_content": null,
            "align_items": null,
            "align_self": null,
            "border": null,
            "bottom": null,
            "display": null,
            "flex": null,
            "flex_flow": null,
            "grid_area": null,
            "grid_auto_columns": null,
            "grid_auto_flow": null,
            "grid_auto_rows": null,
            "grid_column": null,
            "grid_gap": null,
            "grid_row": null,
            "grid_template_areas": null,
            "grid_template_columns": null,
            "grid_template_rows": null,
            "height": null,
            "justify_content": null,
            "justify_items": null,
            "left": null,
            "margin": null,
            "max_height": null,
            "max_width": null,
            "min_height": null,
            "min_width": null,
            "object_fit": null,
            "object_position": null,
            "order": null,
            "overflow": null,
            "overflow_x": null,
            "overflow_y": null,
            "padding": null,
            "right": null,
            "top": null,
            "visibility": null,
            "width": null
          }
        },
        "aaac0e3e9dc9498190660190890a4892": {
          "model_module": "@jupyter-widgets/controls",
          "model_name": "DescriptionStyleModel",
          "model_module_version": "1.5.0",
          "state": {
            "_model_module": "@jupyter-widgets/controls",
            "_model_module_version": "1.5.0",
            "_model_name": "DescriptionStyleModel",
            "_view_count": null,
            "_view_module": "@jupyter-widgets/base",
            "_view_module_version": "1.2.0",
            "_view_name": "StyleView",
            "description_width": ""
          }
        },
        "60fd2b972bbe4727a794f6272d22ffe7": {
          "model_module": "@jupyter-widgets/base",
          "model_name": "LayoutModel",
          "model_module_version": "1.2.0",
          "state": {
            "_model_module": "@jupyter-widgets/base",
            "_model_module_version": "1.2.0",
            "_model_name": "LayoutModel",
            "_view_count": null,
            "_view_module": "@jupyter-widgets/base",
            "_view_module_version": "1.2.0",
            "_view_name": "LayoutView",
            "align_content": null,
            "align_items": null,
            "align_self": null,
            "border": null,
            "bottom": null,
            "display": null,
            "flex": null,
            "flex_flow": null,
            "grid_area": null,
            "grid_auto_columns": null,
            "grid_auto_flow": null,
            "grid_auto_rows": null,
            "grid_column": null,
            "grid_gap": null,
            "grid_row": null,
            "grid_template_areas": null,
            "grid_template_columns": null,
            "grid_template_rows": null,
            "height": null,
            "justify_content": null,
            "justify_items": null,
            "left": null,
            "margin": null,
            "max_height": null,
            "max_width": null,
            "min_height": null,
            "min_width": null,
            "object_fit": null,
            "object_position": null,
            "order": null,
            "overflow": null,
            "overflow_x": null,
            "overflow_y": null,
            "padding": null,
            "right": null,
            "top": null,
            "visibility": null,
            "width": null
          }
        },
        "8be27d015f7043789598537da5e22889": {
          "model_module": "@jupyter-widgets/controls",
          "model_name": "ProgressStyleModel",
          "model_module_version": "1.5.0",
          "state": {
            "_model_module": "@jupyter-widgets/controls",
            "_model_module_version": "1.5.0",
            "_model_name": "ProgressStyleModel",
            "_view_count": null,
            "_view_module": "@jupyter-widgets/base",
            "_view_module_version": "1.2.0",
            "_view_name": "StyleView",
            "bar_color": null,
            "description_width": ""
          }
        },
        "1f8e95b76f194113ae2efc0b302691db": {
          "model_module": "@jupyter-widgets/base",
          "model_name": "LayoutModel",
          "model_module_version": "1.2.0",
          "state": {
            "_model_module": "@jupyter-widgets/base",
            "_model_module_version": "1.2.0",
            "_model_name": "LayoutModel",
            "_view_count": null,
            "_view_module": "@jupyter-widgets/base",
            "_view_module_version": "1.2.0",
            "_view_name": "LayoutView",
            "align_content": null,
            "align_items": null,
            "align_self": null,
            "border": null,
            "bottom": null,
            "display": null,
            "flex": null,
            "flex_flow": null,
            "grid_area": null,
            "grid_auto_columns": null,
            "grid_auto_flow": null,
            "grid_auto_rows": null,
            "grid_column": null,
            "grid_gap": null,
            "grid_row": null,
            "grid_template_areas": null,
            "grid_template_columns": null,
            "grid_template_rows": null,
            "height": null,
            "justify_content": null,
            "justify_items": null,
            "left": null,
            "margin": null,
            "max_height": null,
            "max_width": null,
            "min_height": null,
            "min_width": null,
            "object_fit": null,
            "object_position": null,
            "order": null,
            "overflow": null,
            "overflow_x": null,
            "overflow_y": null,
            "padding": null,
            "right": null,
            "top": null,
            "visibility": null,
            "width": null
          }
        },
        "7e4b3b632ec54ded8545451e6b9a2ebe": {
          "model_module": "@jupyter-widgets/controls",
          "model_name": "DescriptionStyleModel",
          "model_module_version": "1.5.0",
          "state": {
            "_model_module": "@jupyter-widgets/controls",
            "_model_module_version": "1.5.0",
            "_model_name": "DescriptionStyleModel",
            "_view_count": null,
            "_view_module": "@jupyter-widgets/base",
            "_view_module_version": "1.2.0",
            "_view_name": "StyleView",
            "description_width": ""
          }
        },
        "0b0820c0b7a743c2a4ddb8813bbda8e5": {
          "model_module": "@jupyter-widgets/controls",
          "model_name": "HBoxModel",
          "model_module_version": "1.5.0",
          "state": {
            "_dom_classes": [],
            "_model_module": "@jupyter-widgets/controls",
            "_model_module_version": "1.5.0",
            "_model_name": "HBoxModel",
            "_view_count": null,
            "_view_module": "@jupyter-widgets/controls",
            "_view_module_version": "1.5.0",
            "_view_name": "HBoxView",
            "box_style": "",
            "children": [
              "IPY_MODEL_5083fc0712ea4fbfbb78ee810d2f10f8",
              "IPY_MODEL_76468da8b5ff467e8529d08ae88e5c3d",
              "IPY_MODEL_e37791459bae494b80c67df33b1f547e"
            ],
            "layout": "IPY_MODEL_cf2ae08a79404f5eb18dce0ffe58cda4"
          }
        },
        "5083fc0712ea4fbfbb78ee810d2f10f8": {
          "model_module": "@jupyter-widgets/controls",
          "model_name": "HTMLModel",
          "model_module_version": "1.5.0",
          "state": {
            "_dom_classes": [],
            "_model_module": "@jupyter-widgets/controls",
            "_model_module_version": "1.5.0",
            "_model_name": "HTMLModel",
            "_view_count": null,
            "_view_module": "@jupyter-widgets/controls",
            "_view_module_version": "1.5.0",
            "_view_name": "HTMLView",
            "description": "",
            "description_tooltip": null,
            "layout": "IPY_MODEL_d0f6176f60d6495aac9554fbd81adb0f",
            "placeholder": "​",
            "style": "IPY_MODEL_720d962114244809a3691fe9e3c0c67d",
            "value": "100%"
          }
        },
        "76468da8b5ff467e8529d08ae88e5c3d": {
          "model_module": "@jupyter-widgets/controls",
          "model_name": "FloatProgressModel",
          "model_module_version": "1.5.0",
          "state": {
            "_dom_classes": [],
            "_model_module": "@jupyter-widgets/controls",
            "_model_module_version": "1.5.0",
            "_model_name": "FloatProgressModel",
            "_view_count": null,
            "_view_module": "@jupyter-widgets/controls",
            "_view_module_version": "1.5.0",
            "_view_name": "ProgressView",
            "bar_style": "success",
            "description": "",
            "description_tooltip": null,
            "layout": "IPY_MODEL_95a468b2eb454be5b2760b491e890182",
            "max": 40,
            "min": 0,
            "orientation": "horizontal",
            "style": "IPY_MODEL_3773deb522f241549ee8460ead091e67",
            "value": 40
          }
        },
        "e37791459bae494b80c67df33b1f547e": {
          "model_module": "@jupyter-widgets/controls",
          "model_name": "HTMLModel",
          "model_module_version": "1.5.0",
          "state": {
            "_dom_classes": [],
            "_model_module": "@jupyter-widgets/controls",
            "_model_module_version": "1.5.0",
            "_model_name": "HTMLModel",
            "_view_count": null,
            "_view_module": "@jupyter-widgets/controls",
            "_view_module_version": "1.5.0",
            "_view_name": "HTMLView",
            "description": "",
            "description_tooltip": null,
            "layout": "IPY_MODEL_7b8fc4acce2b455bb1be4db99b556190",
            "placeholder": "​",
            "style": "IPY_MODEL_b635906b10344d7f9d4ce277ee42fdea",
            "value": " 40/40 [02:19&lt;00:00,  3.52s/it]"
          }
        },
        "cf2ae08a79404f5eb18dce0ffe58cda4": {
          "model_module": "@jupyter-widgets/base",
          "model_name": "LayoutModel",
          "model_module_version": "1.2.0",
          "state": {
            "_model_module": "@jupyter-widgets/base",
            "_model_module_version": "1.2.0",
            "_model_name": "LayoutModel",
            "_view_count": null,
            "_view_module": "@jupyter-widgets/base",
            "_view_module_version": "1.2.0",
            "_view_name": "LayoutView",
            "align_content": null,
            "align_items": null,
            "align_self": null,
            "border": null,
            "bottom": null,
            "display": null,
            "flex": null,
            "flex_flow": null,
            "grid_area": null,
            "grid_auto_columns": null,
            "grid_auto_flow": null,
            "grid_auto_rows": null,
            "grid_column": null,
            "grid_gap": null,
            "grid_row": null,
            "grid_template_areas": null,
            "grid_template_columns": null,
            "grid_template_rows": null,
            "height": null,
            "justify_content": null,
            "justify_items": null,
            "left": null,
            "margin": null,
            "max_height": null,
            "max_width": null,
            "min_height": null,
            "min_width": null,
            "object_fit": null,
            "object_position": null,
            "order": null,
            "overflow": null,
            "overflow_x": null,
            "overflow_y": null,
            "padding": null,
            "right": null,
            "top": null,
            "visibility": null,
            "width": null
          }
        },
        "d0f6176f60d6495aac9554fbd81adb0f": {
          "model_module": "@jupyter-widgets/base",
          "model_name": "LayoutModel",
          "model_module_version": "1.2.0",
          "state": {
            "_model_module": "@jupyter-widgets/base",
            "_model_module_version": "1.2.0",
            "_model_name": "LayoutModel",
            "_view_count": null,
            "_view_module": "@jupyter-widgets/base",
            "_view_module_version": "1.2.0",
            "_view_name": "LayoutView",
            "align_content": null,
            "align_items": null,
            "align_self": null,
            "border": null,
            "bottom": null,
            "display": null,
            "flex": null,
            "flex_flow": null,
            "grid_area": null,
            "grid_auto_columns": null,
            "grid_auto_flow": null,
            "grid_auto_rows": null,
            "grid_column": null,
            "grid_gap": null,
            "grid_row": null,
            "grid_template_areas": null,
            "grid_template_columns": null,
            "grid_template_rows": null,
            "height": null,
            "justify_content": null,
            "justify_items": null,
            "left": null,
            "margin": null,
            "max_height": null,
            "max_width": null,
            "min_height": null,
            "min_width": null,
            "object_fit": null,
            "object_position": null,
            "order": null,
            "overflow": null,
            "overflow_x": null,
            "overflow_y": null,
            "padding": null,
            "right": null,
            "top": null,
            "visibility": null,
            "width": null
          }
        },
        "720d962114244809a3691fe9e3c0c67d": {
          "model_module": "@jupyter-widgets/controls",
          "model_name": "DescriptionStyleModel",
          "model_module_version": "1.5.0",
          "state": {
            "_model_module": "@jupyter-widgets/controls",
            "_model_module_version": "1.5.0",
            "_model_name": "DescriptionStyleModel",
            "_view_count": null,
            "_view_module": "@jupyter-widgets/base",
            "_view_module_version": "1.2.0",
            "_view_name": "StyleView",
            "description_width": ""
          }
        },
        "95a468b2eb454be5b2760b491e890182": {
          "model_module": "@jupyter-widgets/base",
          "model_name": "LayoutModel",
          "model_module_version": "1.2.0",
          "state": {
            "_model_module": "@jupyter-widgets/base",
            "_model_module_version": "1.2.0",
            "_model_name": "LayoutModel",
            "_view_count": null,
            "_view_module": "@jupyter-widgets/base",
            "_view_module_version": "1.2.0",
            "_view_name": "LayoutView",
            "align_content": null,
            "align_items": null,
            "align_self": null,
            "border": null,
            "bottom": null,
            "display": null,
            "flex": null,
            "flex_flow": null,
            "grid_area": null,
            "grid_auto_columns": null,
            "grid_auto_flow": null,
            "grid_auto_rows": null,
            "grid_column": null,
            "grid_gap": null,
            "grid_row": null,
            "grid_template_areas": null,
            "grid_template_columns": null,
            "grid_template_rows": null,
            "height": null,
            "justify_content": null,
            "justify_items": null,
            "left": null,
            "margin": null,
            "max_height": null,
            "max_width": null,
            "min_height": null,
            "min_width": null,
            "object_fit": null,
            "object_position": null,
            "order": null,
            "overflow": null,
            "overflow_x": null,
            "overflow_y": null,
            "padding": null,
            "right": null,
            "top": null,
            "visibility": null,
            "width": null
          }
        },
        "3773deb522f241549ee8460ead091e67": {
          "model_module": "@jupyter-widgets/controls",
          "model_name": "ProgressStyleModel",
          "model_module_version": "1.5.0",
          "state": {
            "_model_module": "@jupyter-widgets/controls",
            "_model_module_version": "1.5.0",
            "_model_name": "ProgressStyleModel",
            "_view_count": null,
            "_view_module": "@jupyter-widgets/base",
            "_view_module_version": "1.2.0",
            "_view_name": "StyleView",
            "bar_color": null,
            "description_width": ""
          }
        },
        "7b8fc4acce2b455bb1be4db99b556190": {
          "model_module": "@jupyter-widgets/base",
          "model_name": "LayoutModel",
          "model_module_version": "1.2.0",
          "state": {
            "_model_module": "@jupyter-widgets/base",
            "_model_module_version": "1.2.0",
            "_model_name": "LayoutModel",
            "_view_count": null,
            "_view_module": "@jupyter-widgets/base",
            "_view_module_version": "1.2.0",
            "_view_name": "LayoutView",
            "align_content": null,
            "align_items": null,
            "align_self": null,
            "border": null,
            "bottom": null,
            "display": null,
            "flex": null,
            "flex_flow": null,
            "grid_area": null,
            "grid_auto_columns": null,
            "grid_auto_flow": null,
            "grid_auto_rows": null,
            "grid_column": null,
            "grid_gap": null,
            "grid_row": null,
            "grid_template_areas": null,
            "grid_template_columns": null,
            "grid_template_rows": null,
            "height": null,
            "justify_content": null,
            "justify_items": null,
            "left": null,
            "margin": null,
            "max_height": null,
            "max_width": null,
            "min_height": null,
            "min_width": null,
            "object_fit": null,
            "object_position": null,
            "order": null,
            "overflow": null,
            "overflow_x": null,
            "overflow_y": null,
            "padding": null,
            "right": null,
            "top": null,
            "visibility": null,
            "width": null
          }
        },
        "b635906b10344d7f9d4ce277ee42fdea": {
          "model_module": "@jupyter-widgets/controls",
          "model_name": "DescriptionStyleModel",
          "model_module_version": "1.5.0",
          "state": {
            "_model_module": "@jupyter-widgets/controls",
            "_model_module_version": "1.5.0",
            "_model_name": "DescriptionStyleModel",
            "_view_count": null,
            "_view_module": "@jupyter-widgets/base",
            "_view_module_version": "1.2.0",
            "_view_name": "StyleView",
            "description_width": ""
          }
        },
        "944976f474744b07b2c591258c6bb291": {
          "model_module": "@jupyter-widgets/controls",
          "model_name": "HBoxModel",
          "model_module_version": "1.5.0",
          "state": {
            "_dom_classes": [],
            "_model_module": "@jupyter-widgets/controls",
            "_model_module_version": "1.5.0",
            "_model_name": "HBoxModel",
            "_view_count": null,
            "_view_module": "@jupyter-widgets/controls",
            "_view_module_version": "1.5.0",
            "_view_name": "HBoxView",
            "box_style": "",
            "children": [
              "IPY_MODEL_8df3e1dc36614851893b582574366d40",
              "IPY_MODEL_68dbe9ddafcd4887ad57960b1c7a0e3c",
              "IPY_MODEL_779dfb2df42b45bdb66495ea427e7d1f"
            ],
            "layout": "IPY_MODEL_bd388757b7fc4d0e84121b7350409d73"
          }
        },
        "8df3e1dc36614851893b582574366d40": {
          "model_module": "@jupyter-widgets/controls",
          "model_name": "HTMLModel",
          "model_module_version": "1.5.0",
          "state": {
            "_dom_classes": [],
            "_model_module": "@jupyter-widgets/controls",
            "_model_module_version": "1.5.0",
            "_model_name": "HTMLModel",
            "_view_count": null,
            "_view_module": "@jupyter-widgets/controls",
            "_view_module_version": "1.5.0",
            "_view_name": "HTMLView",
            "description": "",
            "description_tooltip": null,
            "layout": "IPY_MODEL_f81dc3672cfd41d08125238cc9dcd263",
            "placeholder": "​",
            "style": "IPY_MODEL_82ae9b68a31d45f4b9bc5a11235d76a6",
            "value": "100%"
          }
        },
        "68dbe9ddafcd4887ad57960b1c7a0e3c": {
          "model_module": "@jupyter-widgets/controls",
          "model_name": "FloatProgressModel",
          "model_module_version": "1.5.0",
          "state": {
            "_dom_classes": [],
            "_model_module": "@jupyter-widgets/controls",
            "_model_module_version": "1.5.0",
            "_model_name": "FloatProgressModel",
            "_view_count": null,
            "_view_module": "@jupyter-widgets/controls",
            "_view_module_version": "1.5.0",
            "_view_name": "ProgressView",
            "bar_style": "success",
            "description": "",
            "description_tooltip": null,
            "layout": "IPY_MODEL_e374daf5af2b47e2a3d0bf5285a670a7",
            "max": 100,
            "min": 0,
            "orientation": "horizontal",
            "style": "IPY_MODEL_91fefce569774713a8e67b7d27e8eff0",
            "value": 100
          }
        },
        "779dfb2df42b45bdb66495ea427e7d1f": {
          "model_module": "@jupyter-widgets/controls",
          "model_name": "HTMLModel",
          "model_module_version": "1.5.0",
          "state": {
            "_dom_classes": [],
            "_model_module": "@jupyter-widgets/controls",
            "_model_module_version": "1.5.0",
            "_model_name": "HTMLModel",
            "_view_count": null,
            "_view_module": "@jupyter-widgets/controls",
            "_view_module_version": "1.5.0",
            "_view_name": "HTMLView",
            "description": "",
            "description_tooltip": null,
            "layout": "IPY_MODEL_fb262b8dc04f467c89017689fa4ed926",
            "placeholder": "​",
            "style": "IPY_MODEL_85845dca128b4f0f883e4f87375f396d",
            "value": " 100/100 [05:46&lt;00:00,  3.47s/it]"
          }
        },
        "bd388757b7fc4d0e84121b7350409d73": {
          "model_module": "@jupyter-widgets/base",
          "model_name": "LayoutModel",
          "model_module_version": "1.2.0",
          "state": {
            "_model_module": "@jupyter-widgets/base",
            "_model_module_version": "1.2.0",
            "_model_name": "LayoutModel",
            "_view_count": null,
            "_view_module": "@jupyter-widgets/base",
            "_view_module_version": "1.2.0",
            "_view_name": "LayoutView",
            "align_content": null,
            "align_items": null,
            "align_self": null,
            "border": null,
            "bottom": null,
            "display": null,
            "flex": null,
            "flex_flow": null,
            "grid_area": null,
            "grid_auto_columns": null,
            "grid_auto_flow": null,
            "grid_auto_rows": null,
            "grid_column": null,
            "grid_gap": null,
            "grid_row": null,
            "grid_template_areas": null,
            "grid_template_columns": null,
            "grid_template_rows": null,
            "height": null,
            "justify_content": null,
            "justify_items": null,
            "left": null,
            "margin": null,
            "max_height": null,
            "max_width": null,
            "min_height": null,
            "min_width": null,
            "object_fit": null,
            "object_position": null,
            "order": null,
            "overflow": null,
            "overflow_x": null,
            "overflow_y": null,
            "padding": null,
            "right": null,
            "top": null,
            "visibility": null,
            "width": null
          }
        },
        "f81dc3672cfd41d08125238cc9dcd263": {
          "model_module": "@jupyter-widgets/base",
          "model_name": "LayoutModel",
          "model_module_version": "1.2.0",
          "state": {
            "_model_module": "@jupyter-widgets/base",
            "_model_module_version": "1.2.0",
            "_model_name": "LayoutModel",
            "_view_count": null,
            "_view_module": "@jupyter-widgets/base",
            "_view_module_version": "1.2.0",
            "_view_name": "LayoutView",
            "align_content": null,
            "align_items": null,
            "align_self": null,
            "border": null,
            "bottom": null,
            "display": null,
            "flex": null,
            "flex_flow": null,
            "grid_area": null,
            "grid_auto_columns": null,
            "grid_auto_flow": null,
            "grid_auto_rows": null,
            "grid_column": null,
            "grid_gap": null,
            "grid_row": null,
            "grid_template_areas": null,
            "grid_template_columns": null,
            "grid_template_rows": null,
            "height": null,
            "justify_content": null,
            "justify_items": null,
            "left": null,
            "margin": null,
            "max_height": null,
            "max_width": null,
            "min_height": null,
            "min_width": null,
            "object_fit": null,
            "object_position": null,
            "order": null,
            "overflow": null,
            "overflow_x": null,
            "overflow_y": null,
            "padding": null,
            "right": null,
            "top": null,
            "visibility": null,
            "width": null
          }
        },
        "82ae9b68a31d45f4b9bc5a11235d76a6": {
          "model_module": "@jupyter-widgets/controls",
          "model_name": "DescriptionStyleModel",
          "model_module_version": "1.5.0",
          "state": {
            "_model_module": "@jupyter-widgets/controls",
            "_model_module_version": "1.5.0",
            "_model_name": "DescriptionStyleModel",
            "_view_count": null,
            "_view_module": "@jupyter-widgets/base",
            "_view_module_version": "1.2.0",
            "_view_name": "StyleView",
            "description_width": ""
          }
        },
        "e374daf5af2b47e2a3d0bf5285a670a7": {
          "model_module": "@jupyter-widgets/base",
          "model_name": "LayoutModel",
          "model_module_version": "1.2.0",
          "state": {
            "_model_module": "@jupyter-widgets/base",
            "_model_module_version": "1.2.0",
            "_model_name": "LayoutModel",
            "_view_count": null,
            "_view_module": "@jupyter-widgets/base",
            "_view_module_version": "1.2.0",
            "_view_name": "LayoutView",
            "align_content": null,
            "align_items": null,
            "align_self": null,
            "border": null,
            "bottom": null,
            "display": null,
            "flex": null,
            "flex_flow": null,
            "grid_area": null,
            "grid_auto_columns": null,
            "grid_auto_flow": null,
            "grid_auto_rows": null,
            "grid_column": null,
            "grid_gap": null,
            "grid_row": null,
            "grid_template_areas": null,
            "grid_template_columns": null,
            "grid_template_rows": null,
            "height": null,
            "justify_content": null,
            "justify_items": null,
            "left": null,
            "margin": null,
            "max_height": null,
            "max_width": null,
            "min_height": null,
            "min_width": null,
            "object_fit": null,
            "object_position": null,
            "order": null,
            "overflow": null,
            "overflow_x": null,
            "overflow_y": null,
            "padding": null,
            "right": null,
            "top": null,
            "visibility": null,
            "width": null
          }
        },
        "91fefce569774713a8e67b7d27e8eff0": {
          "model_module": "@jupyter-widgets/controls",
          "model_name": "ProgressStyleModel",
          "model_module_version": "1.5.0",
          "state": {
            "_model_module": "@jupyter-widgets/controls",
            "_model_module_version": "1.5.0",
            "_model_name": "ProgressStyleModel",
            "_view_count": null,
            "_view_module": "@jupyter-widgets/base",
            "_view_module_version": "1.2.0",
            "_view_name": "StyleView",
            "bar_color": null,
            "description_width": ""
          }
        },
        "fb262b8dc04f467c89017689fa4ed926": {
          "model_module": "@jupyter-widgets/base",
          "model_name": "LayoutModel",
          "model_module_version": "1.2.0",
          "state": {
            "_model_module": "@jupyter-widgets/base",
            "_model_module_version": "1.2.0",
            "_model_name": "LayoutModel",
            "_view_count": null,
            "_view_module": "@jupyter-widgets/base",
            "_view_module_version": "1.2.0",
            "_view_name": "LayoutView",
            "align_content": null,
            "align_items": null,
            "align_self": null,
            "border": null,
            "bottom": null,
            "display": null,
            "flex": null,
            "flex_flow": null,
            "grid_area": null,
            "grid_auto_columns": null,
            "grid_auto_flow": null,
            "grid_auto_rows": null,
            "grid_column": null,
            "grid_gap": null,
            "grid_row": null,
            "grid_template_areas": null,
            "grid_template_columns": null,
            "grid_template_rows": null,
            "height": null,
            "justify_content": null,
            "justify_items": null,
            "left": null,
            "margin": null,
            "max_height": null,
            "max_width": null,
            "min_height": null,
            "min_width": null,
            "object_fit": null,
            "object_position": null,
            "order": null,
            "overflow": null,
            "overflow_x": null,
            "overflow_y": null,
            "padding": null,
            "right": null,
            "top": null,
            "visibility": null,
            "width": null
          }
        },
        "85845dca128b4f0f883e4f87375f396d": {
          "model_module": "@jupyter-widgets/controls",
          "model_name": "DescriptionStyleModel",
          "model_module_version": "1.5.0",
          "state": {
            "_model_module": "@jupyter-widgets/controls",
            "_model_module_version": "1.5.0",
            "_model_name": "DescriptionStyleModel",
            "_view_count": null,
            "_view_module": "@jupyter-widgets/base",
            "_view_module_version": "1.2.0",
            "_view_name": "StyleView",
            "description_width": ""
          }
        }
      }
    }
  },
  "cells": [
    {
      "cell_type": "markdown",
      "metadata": {
        "id": "view-in-github",
        "colab_type": "text"
      },
      "source": [
        "<a href=\"https://colab.research.google.com/github/JohnPaul0403/ai_notebooks/blob/main/autoencoder.ipynb\" target=\"_parent\"><img src=\"https://colab.research.google.com/assets/colab-badge.svg\" alt=\"Open In Colab\"/></a>"
      ]
    },
    {
      "cell_type": "markdown",
      "source": [
        "# Autoencoder Research\n",
        "\n",
        "In this notebook we will experiment and use Convulusional Autoencoders for image denoising.\n",
        "\n",
        "## Dataset\n",
        "\n",
        "As a first experiment we will use the Fashion mnist dataset to train the model. The fashion mnist dataset will help us to find more complex patterns in our data, making this problem more complex and better to delovope in long scale experiment"
      ],
      "metadata": {
        "id": "nEHR3lyU-42y"
      }
    },
    {
      "cell_type": "code",
      "execution_count": 1,
      "metadata": {
        "id": "dTn50n-F-1ee"
      },
      "outputs": [],
      "source": [
        "# Importing libraries\n",
        "import numpy as np\n",
        "import pandas as pd\n",
        "import matplotlib.pyplot as plt\n",
        "import torch\n",
        "from torch import nn\n",
        "from torchvision import datasets, transforms\n",
        "import torchvision.transforms as transforms\n",
        "from torch.utils.data import Dataset, DataLoader\n",
        "from sklearn.model_selection import train_test_split\n",
        "from sklearn.preprocessing import StandardScaler\n",
        "from sklearn.metrics import confusion_matrix, classification_report, accuracy_score"
      ]
    },
    {
      "cell_type": "code",
      "source": [
        "# Getting GPU\n",
        "device = 'cuda' if torch.cuda.is_available() else 'cpu'"
      ],
      "metadata": {
        "id": "qRjcAiXwBP8X"
      },
      "execution_count": 3,
      "outputs": []
    },
    {
      "cell_type": "code",
      "source": [
        "# Getting datset and using transforms to convert inot tensor\n",
        "dataset = datasets.FashionMNIST(root='data', train=True, download=True, transform=transforms.ToTensor())"
      ],
      "metadata": {
        "colab": {
          "base_uri": "https://localhost:8080/"
        },
        "id": "Ih7XdoWSBgb3",
        "outputId": "18bb8fec-5183-41bb-ef4c-f3a22d9d3087"
      },
      "execution_count": 4,
      "outputs": [
        {
          "output_type": "stream",
          "name": "stdout",
          "text": [
            "Downloading http://fashion-mnist.s3-website.eu-central-1.amazonaws.com/train-images-idx3-ubyte.gz\n",
            "Downloading http://fashion-mnist.s3-website.eu-central-1.amazonaws.com/train-images-idx3-ubyte.gz to data/FashionMNIST/raw/train-images-idx3-ubyte.gz\n"
          ]
        },
        {
          "output_type": "stream",
          "name": "stderr",
          "text": [
            "100%|██████████| 26.4M/26.4M [00:02<00:00, 10.3MB/s]\n"
          ]
        },
        {
          "output_type": "stream",
          "name": "stdout",
          "text": [
            "Extracting data/FashionMNIST/raw/train-images-idx3-ubyte.gz to data/FashionMNIST/raw\n",
            "\n",
            "Downloading http://fashion-mnist.s3-website.eu-central-1.amazonaws.com/train-labels-idx1-ubyte.gz\n",
            "Downloading http://fashion-mnist.s3-website.eu-central-1.amazonaws.com/train-labels-idx1-ubyte.gz to data/FashionMNIST/raw/train-labels-idx1-ubyte.gz\n"
          ]
        },
        {
          "output_type": "stream",
          "name": "stderr",
          "text": [
            "100%|██████████| 29.5k/29.5k [00:00<00:00, 174kB/s]\n"
          ]
        },
        {
          "output_type": "stream",
          "name": "stdout",
          "text": [
            "Extracting data/FashionMNIST/raw/train-labels-idx1-ubyte.gz to data/FashionMNIST/raw\n",
            "\n",
            "Downloading http://fashion-mnist.s3-website.eu-central-1.amazonaws.com/t10k-images-idx3-ubyte.gz\n",
            "Downloading http://fashion-mnist.s3-website.eu-central-1.amazonaws.com/t10k-images-idx3-ubyte.gz to data/FashionMNIST/raw/t10k-images-idx3-ubyte.gz\n"
          ]
        },
        {
          "output_type": "stream",
          "name": "stderr",
          "text": [
            "100%|██████████| 4.42M/4.42M [00:01<00:00, 3.19MB/s]\n"
          ]
        },
        {
          "output_type": "stream",
          "name": "stdout",
          "text": [
            "Extracting data/FashionMNIST/raw/t10k-images-idx3-ubyte.gz to data/FashionMNIST/raw\n",
            "\n",
            "Downloading http://fashion-mnist.s3-website.eu-central-1.amazonaws.com/t10k-labels-idx1-ubyte.gz\n",
            "Downloading http://fashion-mnist.s3-website.eu-central-1.amazonaws.com/t10k-labels-idx1-ubyte.gz to data/FashionMNIST/raw/t10k-labels-idx1-ubyte.gz\n"
          ]
        },
        {
          "output_type": "stream",
          "name": "stderr",
          "text": [
            "100%|██████████| 5.15k/5.15k [00:00<00:00, 6.19MB/s]"
          ]
        },
        {
          "output_type": "stream",
          "name": "stdout",
          "text": [
            "Extracting data/FashionMNIST/raw/t10k-labels-idx1-ubyte.gz to data/FashionMNIST/raw\n",
            "\n"
          ]
        },
        {
          "output_type": "stream",
          "name": "stderr",
          "text": [
            "\n"
          ]
        }
      ]
    },
    {
      "cell_type": "code",
      "source": [
        "# Visualize 9 random images from dataset\n",
        "fig, axs = plt.subplots(3, 3, figsize=(10, 10))\n",
        "for i in range(9):\n",
        "    idx = np.random.randint(0, len(dataset))\n",
        "    img, label = dataset[idx]\n",
        "    axs[i//3, i%3].imshow(img.squeeze(), cmap='gray')\n",
        "    axs[i//3, i%3].set_title(f'Label: {label}')\n",
        "    axs[i//3, i%3].axis('off')\n",
        "plt.show()"
      ],
      "metadata": {
        "colab": {
          "base_uri": "https://localhost:8080/",
          "height": 829
        },
        "id": "Rf2VaVVUB139",
        "outputId": "0ed0b92d-bfb7-47d4-cf0d-d8da2bb3b4f2"
      },
      "execution_count": 5,
      "outputs": [
        {
          "output_type": "display_data",
          "data": {
            "text/plain": [
              "<Figure size 1000x1000 with 9 Axes>"
            ],
            "image/png": "[encoded data removed]"
          },
          "metadata": {}
        }
      ]
    },
    {
      "cell_type": "code",
      "source": [
        "#Function that will add noise to the images\n",
        "def add_noise(img):\n",
        "    noise = torch.randn(img.size()) * 0.2\n",
        "    noisy_img = img + noise\n",
        "    return torch.clamp(noisy_img, 0., 1.)"
      ],
      "metadata": {
        "id": "fvm4tETVCTXk"
      },
      "execution_count": 6,
      "outputs": []
    },
    {
      "cell_type": "code",
      "source": [
        "# Function that displays the images with and without noise\n",
        "\n",
        "def display_images(images, noisy_images):\n",
        "    fig, axes = plt.subplots(3, 2, figsize=(10, 10))\n",
        "    axes[0, 0].imshow(images[0].squeeze(), cmap='gray')\n",
        "    axes[0, 0].set_title('Original Image')\n",
        "    axes[0, 1].imshow(noisy_images[0].squeeze(), cmap='gray')\n",
        "    axes[0, 1].set_title('Noisy Image')\n",
        "    axes[1, 0].imshow(images[1].squeeze(), cmap='gray')\n",
        "    axes[1, 0].set_title('Original Image')\n",
        "    axes[1, 1].imshow(noisy_images[1].squeeze(), cmap='gray')\n",
        "    axes[1, 1].set_title('Noisy Image')\n",
        "    axes[2, 0].imshow(images[2].squeeze(), cmap='gray')\n",
        "    axes[2, 0].set_title('Original Image')\n",
        "    axes[2, 1].imshow(noisy_images[2].squeeze(), cmap='gray')\n",
        "    axes[2, 1].set_title('Noisy Image')\n",
        "    for ax in axes.flat:\n",
        "        ax.set_xticks([])\n",
        "        ax.set_yticks([])\n",
        "    plt.show()"
      ],
      "metadata": {
        "id": "QvUb8YioCgsM"
      },
      "execution_count": 7,
      "outputs": []
    },
    {
      "cell_type": "code",
      "source": [
        "noise_transform = transforms.Compose([\n",
        "    transforms.Lambda(lambda x: add_noise(x)),\n",
        "])\n",
        "\n",
        "# Visualizing images\n",
        "images = [dataset[i][0] for i in range(3)]\n",
        "noisy_images = [noise_transform(img) for img in images]\n",
        "display_images(images, noisy_images)"
      ],
      "metadata": {
        "colab": {
          "base_uri": "https://localhost:8080/",
          "height": 829
        },
        "id": "ZVMOzfyqC21s",
        "outputId": "96849985-7890-4e70-f99f-b066c3fe9cda"
      },
      "execution_count": 8,
      "outputs": [
        {
          "output_type": "display_data",
          "data": {
            "text/plain": [
              "<Figure size 1000x1000 with 6 Axes>"
            ],
            "image/png": "[encoded data removed]"
          },
          "metadata": {}
        }
      ]
    },
    {
      "cell_type": "code",
      "source": [
        "x = []\n",
        "y = []\n",
        "for i in range(len(dataset)):\n",
        "    img, label = dataset[i]\n",
        "    noisy_img = noise_transform(img)\n",
        "    x.append(noisy_img)\n",
        "    y.append(img)\n",
        "\n",
        "\n",
        "train_x, test_x, train_y, test_y = train_test_split(x, y, test_size=0.2, random_state=42)"
      ],
      "metadata": {
        "id": "5Is49hEeDAlT"
      },
      "execution_count": 9,
      "outputs": []
    },
    {
      "cell_type": "code",
      "source": [
        "train_x = torch.stack(train_x)\n",
        "train_y = torch.stack(train_y)\n",
        "test_x = torch.stack(test_x)\n",
        "test_y = torch.stack(test_y)"
      ],
      "metadata": {
        "id": "so7zd91QDxlR"
      },
      "execution_count": 10,
      "outputs": []
    },
    {
      "cell_type": "code",
      "source": [
        "train_x = train_x.to(device)\n",
        "train_y = train_y.to(device)\n",
        "test_x = test_x.to(device)\n",
        "test_y = test_y.to(device)"
      ],
      "metadata": {
        "id": "JZ9NBhUwE3lA"
      },
      "execution_count": 11,
      "outputs": []
    },
    {
      "cell_type": "code",
      "source": [
        "from math import pi\n",
        "train_dataset = torch.utils.data.TensorDataset(train_x, train_y)\n",
        "test_dataset = torch.utils.data.TensorDataset(test_x, test_y)\n",
        "pic2pic_dataset = torch.utils.data.TensorDataset(train_y, train_y)\n",
        "pic2pic_test_dataset = torch.utils.data.TensorDataset(test_y, test_y)"
      ],
      "metadata": {
        "id": "o-OEPaIUE7U9"
      },
      "execution_count": 37,
      "outputs": []
    },
    {
      "cell_type": "code",
      "source": [
        "train_loader = DataLoader(train_dataset, batch_size=64, shuffle=True)\n",
        "test_loader = DataLoader(test_dataset, batch_size=64, shuffle=False)\n",
        "pic2pic_loader = DataLoader(pic2pic_dataset, batch_size=64, shuffle=True)\n",
        "pic2pic_test_loader = DataLoader(pic2pic_test_dataset, batch_size=64, shuffle=False)"
      ],
      "metadata": {
        "id": "fi1ZP4dKE_wv"
      },
      "execution_count": 38,
      "outputs": []
    },
    {
      "cell_type": "markdown",
      "source": [
        "# Model (Autoencoder)\n",
        "\n",
        "Autoencoders are a type of encoder which uses unsurpervised learning to learn patterns from data. The idea is to create from a given image, compressed and decrompresses it."
      ],
      "metadata": {
        "id": "DAG8wQIRFJd6"
      }
    },
    {
      "cell_type": "code",
      "source": [
        "class Encoder(nn.Module):\n",
        "    def __init__(self, in_channels, out_channels, kernel_size, stride, padding):\n",
        "        super(Encoder, self).__init__()\n",
        "        self.conv = nn.Conv2d(in_channels, out_channels, kernel_size, stride, padding)\n",
        "        self.bn = nn.BatchNorm2d(out_channels)\n",
        "        self.relu = nn.ReLU()\n",
        "        self.maxpool = nn.MaxPool2d(kernel_size=2, stride=2)\n",
        "        self.conv_2 = nn.Conv2d(out_channels, out_channels, kernel_size, stride, padding)\n",
        "        self.bn_2 = nn.BatchNorm2d(out_channels)\n",
        "        self.relu_2 = nn.ReLU()\n",
        "        self.maxpool_2 = nn.MaxPool2d(kernel_size=2, stride=2)\n",
        "\n",
        "    def forward(self, x):\n",
        "        x = self.conv(x)\n",
        "        x = self.bn(x)\n",
        "        x = self.relu(x)\n",
        "        x = self.maxpool(x)\n",
        "        x = self.conv_2(x)\n",
        "        x = self.bn_2(x)\n",
        "        x = self.relu_2(x)\n",
        "        x = self.maxpool_2(x)\n",
        "        return x\n",
        "\n",
        "class Decoder(nn.Module):\n",
        "    def __init__(self, in_channels, out_channels, kernel_size, stride, padding):\n",
        "        super(Decoder, self).__init__()\n",
        "        # Change in_channels to match the encoder's output channels\n",
        "        self.conv = nn.ConvTranspose2d(in_channels, out_channels, kernel_size, stride, padding)\n",
        "        self.bn = nn.BatchNorm2d(out_channels)\n",
        "        self.relu = nn.ReLU()\n",
        "        self.upsample = nn.Upsample(scale_factor=2, mode='nearest')\n",
        "        self.conv_2 = nn.ConvTranspose2d(out_channels, out_channels, kernel_size, stride, padding)\n",
        "        self.bn_2 = nn.BatchNorm2d(out_channels)\n",
        "        self.relu_2 = nn.ReLU()\n",
        "        self.upsample_2 = nn.Upsample(scale_factor=2, mode='nearest')\n",
        "        self.conv_3 = nn.Conv2d(out_channels, 1, kernel_size=3, stride=1, padding=1)\n",
        "\n",
        "    def forward(self, x):\n",
        "        x = self.conv(x)\n",
        "        x = self.bn(x)\n",
        "        x = self.relu(x)\n",
        "        x = self.upsample(x)\n",
        "        # Add the rest of the decoder layers for upsampling and reconstruction\n",
        "        x = self.conv_2(x)\n",
        "        x = self.bn_2(x)\n",
        "        x = self.relu_2(x)\n",
        "        x = self.upsample_2(x)\n",
        "        # Add a final convolutional layer to get the output to 1 channel\n",
        "        x = self.conv_3(x)\n",
        "        return x\n",
        "\n",
        "class Autoencoder(nn.Module):\n",
        "    def __init__(self):\n",
        "        super(Autoencoder, self).__init__()\n",
        "        self.encoder = Encoder(in_channels=1, out_channels=32, kernel_size=3, stride=1, padding=1)\n",
        "        # Change in_channels to match the encoder's output channels\n",
        "        self.decoder = Decoder(in_channels=32, out_channels=32, kernel_size=3, stride=1, padding=1)\n",
        "\n",
        "    def forward(self, x):\n",
        "        x = self.encoder(x)\n",
        "        x = self.decoder(x)\n",
        "        return x"
      ],
      "metadata": {
        "id": "76LvYA08FGDX"
      },
      "execution_count": 39,
      "outputs": []
    },
    {
      "cell_type": "code",
      "source": [
        "torch.manual_seed(42)\n",
        "\n",
        "model = Autoencoder().to(device)\n",
        "\n",
        "criterion = nn.MSELoss()\n",
        "optimizer = torch.optim.Adam(model.parameters(), lr=0.001)\n",
        "\n",
        "model"
      ],
      "metadata": {
        "colab": {
          "base_uri": "https://localhost:8080/"
        },
        "id": "JKRN0xuxH5y9",
        "outputId": "648e123e-ba75-4c90-b919-5110bef8064e"
      },
      "execution_count": 40,
      "outputs": [
        {
          "output_type": "execute_result",
          "data": {
            "text/plain": [
              "Autoencoder(\n",
              "  (encoder): Encoder(\n",
              "    (conv): Conv2d(1, 32, kernel_size=(3, 3), stride=(1, 1), padding=(1, 1))\n",
              "    (bn): BatchNorm2d(32, eps=1e-05, momentum=0.1, affine=True, track_running_stats=True)\n",
              "    (relu): ReLU()\n",
              "    (maxpool): MaxPool2d(kernel_size=2, stride=2, padding=0, dilation=1, ceil_mode=False)\n",
              "    (conv_2): Conv2d(32, 32, kernel_size=(3, 3), stride=(1, 1), padding=(1, 1))\n",
              "    (bn_2): BatchNorm2d(32, eps=1e-05, momentum=0.1, affine=True, track_running_stats=True)\n",
              "    (relu_2): ReLU()\n",
              "    (maxpool_2): MaxPool2d(kernel_size=2, stride=2, padding=0, dilation=1, ceil_mode=False)\n",
              "  )\n",
              "  (decoder): Decoder(\n",
              "    (conv): ConvTranspose2d(32, 32, kernel_size=(3, 3), stride=(1, 1), padding=(1, 1))\n",
              "    (bn): BatchNorm2d(32, eps=1e-05, momentum=0.1, affine=True, track_running_stats=True)\n",
              "    (relu): ReLU()\n",
              "    (upsample): Upsample(scale_factor=2.0, mode='nearest')\n",
              "    (conv_2): ConvTranspose2d(32, 32, kernel_size=(3, 3), stride=(1, 1), padding=(1, 1))\n",
              "    (bn_2): BatchNorm2d(32, eps=1e-05, momentum=0.1, affine=True, track_running_stats=True)\n",
              "    (relu_2): ReLU()\n",
              "    (upsample_2): Upsample(scale_factor=2.0, mode='nearest')\n",
              "    (conv_3): Conv2d(32, 1, kernel_size=(3, 3), stride=(1, 1), padding=(1, 1))\n",
              "  )\n",
              ")"
            ]
          },
          "metadata": {},
          "execution_count": 40
        }
      ]
    },
    {
      "cell_type": "code",
      "source": [
        "def train(model, train_loader, criterion, optimizer, device):\n",
        "    model.train()\n",
        "    train_loss, train_acc = 0, 0\n",
        "    for data, _ in train_loader:\n",
        "        data = data.to(device)\n",
        "        optimizer.zero_grad()\n",
        "        output = model(data)\n",
        "        loss = criterion(output, data)\n",
        "        loss.backward()\n",
        "        optimizer.step()\n",
        "        train_loss += loss.item() * data.size(0)\n",
        "        train_acc += (output == data).float().mean()\n",
        "\n",
        "    train_loss = train_loss / len(train_loader.dataset)\n",
        "    train_acc = train_acc / len(train_loader)\n",
        "    return train_loss, train_acc\n",
        "\n",
        "def test(model, test_loader, criterion, device):\n",
        "    model.eval()\n",
        "    test_loss, test_acc = 0, 0\n",
        "    with torch.no_grad():\n",
        "        for data, _ in test_loader:\n",
        "            data = data.to(device)\n",
        "            output = model(data)\n",
        "            loss = criterion(output, data)\n",
        "            test_loss += loss.item() * data.size(0)\n",
        "            test_acc += (output == data).float().mean()\n",
        "\n",
        "    test_loss = test_loss / len(test_loader.dataset)\n",
        "    test_acc = test_acc / len(test_loader)\n",
        "    return test_loss, test_acc"
      ],
      "metadata": {
        "id": "bmWdLYqeIZ4L"
      },
      "execution_count": 41,
      "outputs": []
    },
    {
      "cell_type": "code",
      "source": [
        "from tqdm.auto import tqdm\n",
        "torch.manual_seed(42)\n",
        "\n",
        "num_epochs = 10\n",
        "train_losses, train_accs = [], []\n",
        "test_losses, test_accs = [], []\n",
        "\n",
        "for epoch in tqdm(range(num_epochs)):\n",
        "    train_loss, train_acc = train(model, pic2pic_loader, criterion, optimizer, device)\n",
        "    test_loss, test_acc = test(model, pic2pic_test_loader, criterion, device)\n",
        "    train_losses.append(train_loss)\n",
        "    train_accs.append(train_acc)\n",
        "    test_losses.append(test_loss)\n",
        "    test_accs.append(test_acc)\n",
        "    print(f'Epoch {epoch+1}/{num_epochs}, Train Loss: {train_loss:.4f}, Train Acc: {train_acc:.4f}, Test Loss: {test_loss:.4f}, Test Acc: {test_acc:.4f}')"
      ],
      "metadata": {
        "colab": {
          "base_uri": "https://localhost:8080/",
          "height": 228,
          "referenced_widgets": [
            "b21fed9aa0174d31be3a70d9d273df91",
            "7147102cf17348288ec2ef9fac239d02",
            "a559e60c310a4673a3c43118d5cd8f95",
            "e333ddf77f4e49e1b5225bde8ab5a818",
            "a00970bfcbf040a7bc7b310cf91a72cd",
            "95898aad812d4112ba503f307952589f",
            "aaac0e3e9dc9498190660190890a4892",
            "60fd2b972bbe4727a794f6272d22ffe7",
            "8be27d015f7043789598537da5e22889",
            "1f8e95b76f194113ae2efc0b302691db",
            "7e4b3b632ec54ded8545451e6b9a2ebe"
          ]
        },
        "id": "ytbhYiaJIrM-",
        "outputId": "144af423-a182-418b-a1b6-ed4753c50a69"
      },
      "execution_count": 42,
      "outputs": [
        {
          "output_type": "display_data",
          "data": {
            "text/plain": [
              "  0%|          | 0/10 [00:00<?, ?it/s]"
            ],
            "application/vnd.jupyter.widget-view+json": {
              "version_major": 2,
              "version_minor": 0,
              "model_id": "b21fed9aa0174d31be3a70d9d273df91"
            }
          },
          "metadata": {}
        },
        {
          "output_type": "stream",
          "name": "stdout",
          "text": [
            "Epoch 1/10, Train Loss: 0.0193, Train Acc: 0.0000, Test Loss: 0.0092, Test Acc: 0.0000\n",
            "Epoch 2/10, Train Loss: 0.0081, Train Acc: 0.0000, Test Loss: 0.0075, Test Acc: 0.0000\n",
            "Epoch 3/10, Train Loss: 0.0068, Train Acc: 0.0000, Test Loss: 0.0065, Test Acc: 0.0000\n",
            "Epoch 4/10, Train Loss: 0.0061, Train Acc: 0.0000, Test Loss: 0.0050, Test Acc: 0.0000\n",
            "Epoch 5/10, Train Loss: 0.0056, Train Acc: 0.0000, Test Loss: 0.0047, Test Acc: 0.0000\n",
            "Epoch 6/10, Train Loss: 0.0051, Train Acc: 0.0000, Test Loss: 0.0050, Test Acc: 0.0000\n",
            "Epoch 7/10, Train Loss: 0.0050, Train Acc: 0.0000, Test Loss: 0.0041, Test Acc: 0.0000\n",
            "Epoch 8/10, Train Loss: 0.0047, Train Acc: 0.0000, Test Loss: 0.0043, Test Acc: 0.0000\n",
            "Epoch 9/10, Train Loss: 0.0044, Train Acc: 0.0000, Test Loss: 0.0040, Test Acc: 0.0000\n",
            "Epoch 10/10, Train Loss: 0.0042, Train Acc: 0.0000, Test Loss: 0.0053, Test Acc: 0.0000\n"
          ]
        }
      ]
    },
    {
      "cell_type": "code",
      "source": [
        "#Visualazing the results\n",
        "\n",
        "def predict(model, data):\n",
        "    model.eval()\n",
        "    with torch.no_grad():\n",
        "        output = model(data)\n",
        "    return output\n",
        "\n",
        "y_pred = predict(model, test_y)\n",
        "y_pred = y_pred.cpu().numpy() # move to cpu before convertion\n",
        "# y_pred = np.argmax(y_pred, axis=1) #Removed because is not a classification problem\n",
        "y_true = test_y.cpu().numpy() # move to cpu before convertion\n",
        "# y_true = np.argmax(y_true, axis=1) #Removed because is not a classification problem\n",
        "\n",
        "images_test = [test_y[i].cpu().numpy() for i in range(3)]\n",
        "predictions = [y_pred[i] for i in range(3)]\n",
        "display_images(images_test, predictions)"
      ],
      "metadata": {
        "colab": {
          "base_uri": "https://localhost:8080/",
          "height": 829
        },
        "id": "97pF192kJXO_",
        "outputId": "39e71e73-2dec-470c-db4b-9f3f614b23db"
      },
      "execution_count": 44,
      "outputs": [
        {
          "output_type": "display_data",
          "data": {
            "text/plain": [
              "<Figure size 1000x1000 with 6 Axes>"
            ],
            "image/png": "[encoded data removed]"
          },
          "metadata": {}
        }
      ]
    },
    {
      "cell_type": "code",
      "source": [
        "# Trying different EPOCHS\n",
        "\n",
        "torch.manual_seed(42)\n",
        "\n",
        "num_epochs = 50\n",
        "train_losses, train_accs = [], []\n",
        "test_losses, test_accs = [], []\n",
        "\n",
        "for epoch in tqdm(range(10, num_epochs)):\n",
        "    train_loss, train_acc = train(model, pic2pic_loader, criterion, optimizer, device)\n",
        "    test_loss, test_acc = test(model, pic2pic_test_loader, criterion, device)\n",
        "    train_losses.append(train_loss)\n",
        "    train_accs.append(train_acc)\n",
        "    test_losses.append(test_loss)\n",
        "    test_accs.append(test_acc)\n",
        "    print(f'Epoch {epoch+1}/{num_epochs}, Train Loss: {train_loss:.4f}, Train Acc: {train_acc:.4f}, Test Loss: {test_loss:.4f}, Test Acc: {test_acc:.4f}')"
      ],
      "metadata": {
        "colab": {
          "base_uri": "https://localhost:8080/",
          "height": 763,
          "referenced_widgets": [
            "0b0820c0b7a743c2a4ddb8813bbda8e5",
            "5083fc0712ea4fbfbb78ee810d2f10f8",
            "76468da8b5ff467e8529d08ae88e5c3d",
            "e37791459bae494b80c67df33b1f547e",
            "cf2ae08a79404f5eb18dce0ffe58cda4",
            "d0f6176f60d6495aac9554fbd81adb0f",
            "720d962114244809a3691fe9e3c0c67d",
            "95a468b2eb454be5b2760b491e890182",
            "3773deb522f241549ee8460ead091e67",
            "7b8fc4acce2b455bb1be4db99b556190",
            "b635906b10344d7f9d4ce277ee42fdea"
          ]
        },
        "id": "zG-0zoA9MUsU",
        "outputId": "905da207-35e8-435e-d897-921dba4984ee"
      },
      "execution_count": 45,
      "outputs": [
        {
          "output_type": "display_data",
          "data": {
            "text/plain": [
              "  0%|          | 0/40 [00:00<?, ?it/s]"
            ],
            "application/vnd.jupyter.widget-view+json": {
              "version_major": 2,
              "version_minor": 0,
              "model_id": "0b0820c0b7a743c2a4ddb8813bbda8e5"
            }
          },
          "metadata": {}
        },
        {
          "output_type": "stream",
          "name": "stdout",
          "text": [
            "Epoch 11/50, Train Loss: 0.0041, Train Acc: 0.0000, Test Loss: 0.0043, Test Acc: 0.0000\n",
            "Epoch 12/50, Train Loss: 0.0040, Train Acc: 0.0000, Test Loss: 0.0040, Test Acc: 0.0000\n",
            "Epoch 13/50, Train Loss: 0.0039, Train Acc: 0.0000, Test Loss: 0.0043, Test Acc: 0.0000\n",
            "Epoch 14/50, Train Loss: 0.0038, Train Acc: 0.0000, Test Loss: 0.0039, Test Acc: 0.0000\n",
            "Epoch 15/50, Train Loss: 0.0038, Train Acc: 0.0000, Test Loss: 0.0033, Test Acc: 0.0000\n",
            "Epoch 16/50, Train Loss: 0.0036, Train Acc: 0.0000, Test Loss: 0.0033, Test Acc: 0.0000\n",
            "Epoch 17/50, Train Loss: 0.0037, Train Acc: 0.0000, Test Loss: 0.0035, Test Acc: 0.0000\n",
            "Epoch 18/50, Train Loss: 0.0035, Train Acc: 0.0000, Test Loss: 0.0035, Test Acc: 0.0000\n",
            "Epoch 19/50, Train Loss: 0.0034, Train Acc: 0.0000, Test Loss: 0.0033, Test Acc: 0.0000\n",
            "Epoch 20/50, Train Loss: 0.0033, Train Acc: 0.0000, Test Loss: 0.0037, Test Acc: 0.0000\n",
            "Epoch 21/50, Train Loss: 0.0033, Train Acc: 0.0000, Test Loss: 0.0040, Test Acc: 0.0000\n",
            "Epoch 22/50, Train Loss: 0.0033, Train Acc: 0.0000, Test Loss: 0.0032, Test Acc: 0.0000\n",
            "Epoch 23/50, Train Loss: 0.0033, Train Acc: 0.0000, Test Loss: 0.0031, Test Acc: 0.0000\n",
            "Epoch 24/50, Train Loss: 0.0032, Train Acc: 0.0000, Test Loss: 0.0044, Test Acc: 0.0000\n",
            "Epoch 25/50, Train Loss: 0.0032, Train Acc: 0.0000, Test Loss: 0.0030, Test Acc: 0.0000\n",
            "Epoch 26/50, Train Loss: 0.0032, Train Acc: 0.0000, Test Loss: 0.0029, Test Acc: 0.0000\n",
            "Epoch 27/50, Train Loss: 0.0032, Train Acc: 0.0000, Test Loss: 0.0029, Test Acc: 0.0000\n",
            "Epoch 28/50, Train Loss: 0.0031, Train Acc: 0.0000, Test Loss: 0.0029, Test Acc: 0.0000\n",
            "Epoch 29/50, Train Loss: 0.0031, Train Acc: 0.0000, Test Loss: 0.0029, Test Acc: 0.0000\n",
            "Epoch 30/50, Train Loss: 0.0030, Train Acc: 0.0000, Test Loss: 0.0036, Test Acc: 0.0000\n",
            "Epoch 31/50, Train Loss: 0.0031, Train Acc: 0.0000, Test Loss: 0.0032, Test Acc: 0.0000\n",
            "Epoch 32/50, Train Loss: 0.0030, Train Acc: 0.0000, Test Loss: 0.0028, Test Acc: 0.0000\n",
            "Epoch 33/50, Train Loss: 0.0030, Train Acc: 0.0000, Test Loss: 0.0028, Test Acc: 0.0000\n",
            "Epoch 34/50, Train Loss: 0.0030, Train Acc: 0.0000, Test Loss: 0.0028, Test Acc: 0.0000\n",
            "Epoch 35/50, Train Loss: 0.0030, Train Acc: 0.0000, Test Loss: 0.0031, Test Acc: 0.0000\n",
            "Epoch 36/50, Train Loss: 0.0030, Train Acc: 0.0000, Test Loss: 0.0041, Test Acc: 0.0000\n",
            "Epoch 37/50, Train Loss: 0.0029, Train Acc: 0.0000, Test Loss: 0.0027, Test Acc: 0.0000\n",
            "Epoch 38/50, Train Loss: 0.0029, Train Acc: 0.0000, Test Loss: 0.0029, Test Acc: 0.0000\n",
            "Epoch 39/50, Train Loss: 0.0029, Train Acc: 0.0000, Test Loss: 0.0027, Test Acc: 0.0000\n",
            "Epoch 40/50, Train Loss: 0.0029, Train Acc: 0.0000, Test Loss: 0.0028, Test Acc: 0.0000\n",
            "Epoch 41/50, Train Loss: 0.0029, Train Acc: 0.0000, Test Loss: 0.0027, Test Acc: 0.0000\n",
            "Epoch 42/50, Train Loss: 0.0029, Train Acc: 0.0000, Test Loss: 0.0030, Test Acc: 0.0000\n",
            "Epoch 43/50, Train Loss: 0.0029, Train Acc: 0.0000, Test Loss: 0.0027, Test Acc: 0.0000\n",
            "Epoch 44/50, Train Loss: 0.0028, Train Acc: 0.0000, Test Loss: 0.0027, Test Acc: 0.0000\n",
            "Epoch 45/50, Train Loss: 0.0028, Train Acc: 0.0000, Test Loss: 0.0027, Test Acc: 0.0000\n",
            "Epoch 46/50, Train Loss: 0.0028, Train Acc: 0.0000, Test Loss: 0.0026, Test Acc: 0.0000\n",
            "Epoch 47/50, Train Loss: 0.0028, Train Acc: 0.0000, Test Loss: 0.0027, Test Acc: 0.0000\n",
            "Epoch 48/50, Train Loss: 0.0028, Train Acc: 0.0000, Test Loss: 0.0030, Test Acc: 0.0000\n",
            "Epoch 49/50, Train Loss: 0.0028, Train Acc: 0.0000, Test Loss: 0.0030, Test Acc: 0.0000\n",
            "Epoch 50/50, Train Loss: 0.0028, Train Acc: 0.0000, Test Loss: 0.0028, Test Acc: 0.0000\n"
          ]
        }
      ]
    },
    {
      "cell_type": "code",
      "source": [
        "#Visualazing the results\n",
        "\n",
        "def predict(model, data):\n",
        "    model.eval()\n",
        "    with torch.no_grad():\n",
        "        output = model(data)\n",
        "    return output\n",
        "\n",
        "y_pred = predict(model, test_y)\n",
        "y_pred = y_pred.cpu().numpy() # move to cpu before convertion\n",
        "# y_pred = np.argmax(y_pred, axis=1) #Removed because is not a classification problem\n",
        "y_true = test_y.cpu().numpy() # move to cpu before convertion\n",
        "# y_true = np.argmax(y_true, axis=1) #Removed because is not a classification problem\n",
        "\n",
        "images_test = [test_y[i].cpu().numpy() for i in range(3)]\n",
        "predictions = [y_pred[i] for i in range(3)]\n",
        "display_images(images_test, predictions)"
      ],
      "metadata": {
        "colab": {
          "base_uri": "https://localhost:8080/",
          "height": 829
        },
        "id": "oneWURPfOZO6",
        "outputId": "424ad75d-1693-4443-f900-69cf5a3f5a5d"
      },
      "execution_count": 46,
      "outputs": [
        {
          "output_type": "display_data",
          "data": {
            "text/plain": [
              "<Figure size 1000x1000 with 6 Axes>"
            ],
            "image/png": "[encoded data removed]"
          },
          "metadata": {}
        }
      ]
    },
    {
      "cell_type": "code",
      "source": [
        "# Visualazing train ans test loss\n",
        "\n",
        "plt.plot(train_losses, label='Train Loss')\n",
        "plt.plot(test_losses, label='Test Loss')\n",
        "plt.xlabel('Epochs')\n",
        "plt.ylabel('Loss')\n",
        "plt.legend()\n",
        "plt.show()"
      ],
      "metadata": {
        "colab": {
          "base_uri": "https://localhost:8080/",
          "height": 453
        },
        "id": "oQg5UnCLQsAK",
        "outputId": "6e928cb9-6074-4b36-81ce-37cf6a9ace64"
      },
      "execution_count": 47,
      "outputs": [
        {
          "output_type": "display_data",
          "data": {
            "text/plain": [
              "<Figure size 640x480 with 1 Axes>"
            ],
            "image/png": "[encoded data removed]"
          },
          "metadata": {}
        }
      ]
    },
    {
      "cell_type": "markdown",
      "source": [
        "# Train part 2\n",
        "\n",
        "Now we will retrain the autoencoder so it will learn how to denoise the given image."
      ],
      "metadata": {
        "id": "wBRmBUObUCM4"
      }
    },
    {
      "cell_type": "code",
      "source": [
        "# Retraining the autoencoder to denoise images\n",
        "\n",
        "torch.manual_seed(42)\n",
        "\n",
        "num_epochs = 100\n",
        "train_losses, train_accs = [], []\n",
        "test_losses, test_accs = [], []\n",
        "\n",
        "for epoch in tqdm(range(num_epochs)):\n",
        "    train_loss, train_acc = train(model, train_loader, criterion, optimizer, device)\n",
        "    test_loss, test_acc = test(model, test_loader, criterion, device)\n",
        "    train_losses.append(train_loss)\n",
        "    train_accs.append(train_acc)\n",
        "    test_losses.append(test_loss)\n",
        "    test_accs.append(test_acc)\n",
        "    print(f'Epoch {epoch+1}/{num_epochs}, Train Loss: {train_loss:.4f}, Train Acc: {train_acc:.4f}, Test Loss: {test_loss:.4f}, Test Acc: {test_acc:.4f}')"
      ],
      "metadata": {
        "colab": {
          "base_uri": "https://localhost:8080/",
          "height": 1000,
          "referenced_widgets": [
            "944976f474744b07b2c591258c6bb291",
            "8df3e1dc36614851893b582574366d40",
            "68dbe9ddafcd4887ad57960b1c7a0e3c",
            "779dfb2df42b45bdb66495ea427e7d1f",
            "bd388757b7fc4d0e84121b7350409d73",
            "f81dc3672cfd41d08125238cc9dcd263",
            "82ae9b68a31d45f4b9bc5a11235d76a6",
            "e374daf5af2b47e2a3d0bf5285a670a7",
            "91fefce569774713a8e67b7d27e8eff0",
            "fb262b8dc04f467c89017689fa4ed926",
            "85845dca128b4f0f883e4f87375f396d"
          ]
        },
        "id": "IuOsQqRKQ1oR",
        "outputId": "40b9af51-843e-489c-a58d-1e68a2515b11"
      },
      "execution_count": 48,
      "outputs": [
        {
          "output_type": "display_data",
          "data": {
            "text/plain": [
              "  0%|          | 0/100 [00:00<?, ?it/s]"
            ],
            "application/vnd.jupyter.widget-view+json": {
              "version_major": 2,
              "version_minor": 0,
              "model_id": "944976f474744b07b2c591258c6bb291"
            }
          },
          "metadata": {}
        },
        {
          "output_type": "stream",
          "name": "stdout",
          "text": [
            "Epoch 1/100, Train Loss: 0.0152, Train Acc: 0.0000, Test Loss: 0.0148, Test Acc: 0.0000\n",
            "Epoch 2/100, Train Loss: 0.0146, Train Acc: 0.0000, Test Loss: 0.0143, Test Acc: 0.0000\n",
            "Epoch 3/100, Train Loss: 0.0143, Train Acc: 0.0000, Test Loss: 0.0140, Test Acc: 0.0000\n",
            "Epoch 4/100, Train Loss: 0.0141, Train Acc: 0.0000, Test Loss: 0.0139, Test Acc: 0.0000\n",
            "Epoch 5/100, Train Loss: 0.0139, Train Acc: 0.0000, Test Loss: 0.0139, Test Acc: 0.0000\n",
            "Epoch 6/100, Train Loss: 0.0138, Train Acc: 0.0000, Test Loss: 0.0139, Test Acc: 0.0000\n",
            "Epoch 7/100, Train Loss: 0.0137, Train Acc: 0.0000, Test Loss: 0.0136, Test Acc: 0.0000\n",
            "Epoch 8/100, Train Loss: 0.0135, Train Acc: 0.0000, Test Loss: 0.0134, Test Acc: 0.0000\n",
            "Epoch 9/100, Train Loss: 0.0134, Train Acc: 0.0000, Test Loss: 0.0133, Test Acc: 0.0000\n",
            "Epoch 10/100, Train Loss: 0.0133, Train Acc: 0.0000, Test Loss: 0.0134, Test Acc: 0.0000\n",
            "Epoch 11/100, Train Loss: 0.0132, Train Acc: 0.0000, Test Loss: 0.0134, Test Acc: 0.0000\n",
            "Epoch 12/100, Train Loss: 0.0132, Train Acc: 0.0000, Test Loss: 0.0136, Test Acc: 0.0000\n",
            "Epoch 13/100, Train Loss: 0.0131, Train Acc: 0.0000, Test Loss: 0.0130, Test Acc: 0.0000\n",
            "Epoch 14/100, Train Loss: 0.0130, Train Acc: 0.0000, Test Loss: 0.0130, Test Acc: 0.0000\n",
            "Epoch 15/100, Train Loss: 0.0130, Train Acc: 0.0000, Test Loss: 0.0137, Test Acc: 0.0000\n",
            "Epoch 16/100, Train Loss: 0.0129, Train Acc: 0.0000, Test Loss: 0.0131, Test Acc: 0.0000\n",
            "Epoch 17/100, Train Loss: 0.0129, Train Acc: 0.0000, Test Loss: 0.0128, Test Acc: 0.0000\n",
            "Epoch 18/100, Train Loss: 0.0128, Train Acc: 0.0000, Test Loss: 0.0129, Test Acc: 0.0000\n",
            "Epoch 19/100, Train Loss: 0.0127, Train Acc: 0.0000, Test Loss: 0.0127, Test Acc: 0.0000\n",
            "Epoch 20/100, Train Loss: 0.0127, Train Acc: 0.0000, Test Loss: 0.0126, Test Acc: 0.0000\n",
            "Epoch 21/100, Train Loss: 0.0126, Train Acc: 0.0000, Test Loss: 0.0129, Test Acc: 0.0000\n",
            "Epoch 22/100, Train Loss: 0.0126, Train Acc: 0.0000, Test Loss: 0.0125, Test Acc: 0.0000\n",
            "Epoch 23/100, Train Loss: 0.0125, Train Acc: 0.0000, Test Loss: 0.0124, Test Acc: 0.0000\n",
            "Epoch 24/100, Train Loss: 0.0125, Train Acc: 0.0000, Test Loss: 0.0127, Test Acc: 0.0000\n",
            "Epoch 25/100, Train Loss: 0.0125, Train Acc: 0.0000, Test Loss: 0.0124, Test Acc: 0.0000\n",
            "Epoch 26/100, Train Loss: 0.0124, Train Acc: 0.0000, Test Loss: 0.0124, Test Acc: 0.0000\n",
            "Epoch 27/100, Train Loss: 0.0124, Train Acc: 0.0000, Test Loss: 0.0126, Test Acc: 0.0000\n",
            "Epoch 28/100, Train Loss: 0.0124, Train Acc: 0.0000, Test Loss: 0.0124, Test Acc: 0.0000\n",
            "Epoch 29/100, Train Loss: 0.0123, Train Acc: 0.0000, Test Loss: 0.0122, Test Acc: 0.0000\n",
            "Epoch 30/100, Train Loss: 0.0123, Train Acc: 0.0000, Test Loss: 0.0122, Test Acc: 0.0000\n",
            "Epoch 31/100, Train Loss: 0.0123, Train Acc: 0.0000, Test Loss: 0.0123, Test Acc: 0.0000\n",
            "Epoch 32/100, Train Loss: 0.0122, Train Acc: 0.0000, Test Loss: 0.0123, Test Acc: 0.0000\n",
            "Epoch 33/100, Train Loss: 0.0122, Train Acc: 0.0000, Test Loss: 0.0122, Test Acc: 0.0000\n",
            "Epoch 34/100, Train Loss: 0.0122, Train Acc: 0.0000, Test Loss: 0.0121, Test Acc: 0.0000\n",
            "Epoch 35/100, Train Loss: 0.0121, Train Acc: 0.0000, Test Loss: 0.0121, Test Acc: 0.0000\n",
            "Epoch 36/100, Train Loss: 0.0121, Train Acc: 0.0000, Test Loss: 0.0122, Test Acc: 0.0000\n",
            "Epoch 37/100, Train Loss: 0.0121, Train Acc: 0.0000, Test Loss: 0.0123, Test Acc: 0.0000\n",
            "Epoch 38/100, Train Loss: 0.0121, Train Acc: 0.0000, Test Loss: 0.0125, Test Acc: 0.0000\n",
            "Epoch 39/100, Train Loss: 0.0120, Train Acc: 0.0000, Test Loss: 0.0122, Test Acc: 0.0000\n",
            "Epoch 40/100, Train Loss: 0.0120, Train Acc: 0.0000, Test Loss: 0.0121, Test Acc: 0.0000\n",
            "Epoch 41/100, Train Loss: 0.0120, Train Acc: 0.0000, Test Loss: 0.0120, Test Acc: 0.0000\n",
            "Epoch 42/100, Train Loss: 0.0120, Train Acc: 0.0000, Test Loss: 0.0120, Test Acc: 0.0000\n",
            "Epoch 43/100, Train Loss: 0.0120, Train Acc: 0.0000, Test Loss: 0.0119, Test Acc: 0.0000\n",
            "Epoch 44/100, Train Loss: 0.0119, Train Acc: 0.0000, Test Loss: 0.0123, Test Acc: 0.0000\n",
            "Epoch 45/100, Train Loss: 0.0119, Train Acc: 0.0000, Test Loss: 0.0120, Test Acc: 0.0000\n",
            "Epoch 46/100, Train Loss: 0.0119, Train Acc: 0.0000, Test Loss: 0.0119, Test Acc: 0.0000\n",
            "Epoch 47/100, Train Loss: 0.0119, Train Acc: 0.0000, Test Loss: 0.0124, Test Acc: 0.0000\n",
            "Epoch 48/100, Train Loss: 0.0119, Train Acc: 0.0000, Test Loss: 0.0121, Test Acc: 0.0000\n",
            "Epoch 49/100, Train Loss: 0.0119, Train Acc: 0.0000, Test Loss: 0.0118, Test Acc: 0.0000\n",
            "Epoch 50/100, Train Loss: 0.0119, Train Acc: 0.0000, Test Loss: 0.0118, Test Acc: 0.0000\n",
            "Epoch 51/100, Train Loss: 0.0119, Train Acc: 0.0000, Test Loss: 0.0119, Test Acc: 0.0000\n",
            "Epoch 52/100, Train Loss: 0.0118, Train Acc: 0.0000, Test Loss: 0.0118, Test Acc: 0.0000\n",
            "Epoch 53/100, Train Loss: 0.0118, Train Acc: 0.0000, Test Loss: 0.0118, Test Acc: 0.0000\n",
            "Epoch 54/100, Train Loss: 0.0118, Train Acc: 0.0000, Test Loss: 0.0118, Test Acc: 0.0000\n",
            "Epoch 55/100, Train Loss: 0.0118, Train Acc: 0.0000, Test Loss: 0.0119, Test Acc: 0.0000\n",
            "Epoch 56/100, Train Loss: 0.0118, Train Acc: 0.0000, Test Loss: 0.0118, Test Acc: 0.0000\n",
            "Epoch 57/100, Train Loss: 0.0118, Train Acc: 0.0000, Test Loss: 0.0118, Test Acc: 0.0000\n",
            "Epoch 58/100, Train Loss: 0.0118, Train Acc: 0.0000, Test Loss: 0.0118, Test Acc: 0.0000\n",
            "Epoch 59/100, Train Loss: 0.0118, Train Acc: 0.0000, Test Loss: 0.0118, Test Acc: 0.0000\n",
            "Epoch 60/100, Train Loss: 0.0117, Train Acc: 0.0000, Test Loss: 0.0117, Test Acc: 0.0000\n",
            "Epoch 61/100, Train Loss: 0.0117, Train Acc: 0.0000, Test Loss: 0.0118, Test Acc: 0.0000\n",
            "Epoch 62/100, Train Loss: 0.0117, Train Acc: 0.0000, Test Loss: 0.0116, Test Acc: 0.0000\n",
            "Epoch 63/100, Train Loss: 0.0117, Train Acc: 0.0000, Test Loss: 0.0117, Test Acc: 0.0000\n",
            "Epoch 64/100, Train Loss: 0.0117, Train Acc: 0.0000, Test Loss: 0.0116, Test Acc: 0.0000\n",
            "Epoch 65/100, Train Loss: 0.0117, Train Acc: 0.0000, Test Loss: 0.0117, Test Acc: 0.0000\n",
            "Epoch 66/100, Train Loss: 0.0116, Train Acc: 0.0000, Test Loss: 0.0118, Test Acc: 0.0000\n",
            "Epoch 67/100, Train Loss: 0.0117, Train Acc: 0.0000, Test Loss: 0.0118, Test Acc: 0.0000\n",
            "Epoch 68/100, Train Loss: 0.0116, Train Acc: 0.0000, Test Loss: 0.0118, Test Acc: 0.0000\n",
            "Epoch 69/100, Train Loss: 0.0117, Train Acc: 0.0000, Test Loss: 0.0119, Test Acc: 0.0000\n",
            "Epoch 70/100, Train Loss: 0.0116, Train Acc: 0.0000, Test Loss: 0.0117, Test Acc: 0.0000\n",
            "Epoch 71/100, Train Loss: 0.0116, Train Acc: 0.0000, Test Loss: 0.0125, Test Acc: 0.0000\n",
            "Epoch 72/100, Train Loss: 0.0116, Train Acc: 0.0000, Test Loss: 0.0118, Test Acc: 0.0000\n",
            "Epoch 73/100, Train Loss: 0.0116, Train Acc: 0.0000, Test Loss: 0.0116, Test Acc: 0.0000\n",
            "Epoch 74/100, Train Loss: 0.0116, Train Acc: 0.0000, Test Loss: 0.0115, Test Acc: 0.0000\n",
            "Epoch 75/100, Train Loss: 0.0116, Train Acc: 0.0000, Test Loss: 0.0116, Test Acc: 0.0000\n",
            "Epoch 76/100, Train Loss: 0.0116, Train Acc: 0.0000, Test Loss: 0.0115, Test Acc: 0.0000\n",
            "Epoch 77/100, Train Loss: 0.0115, Train Acc: 0.0000, Test Loss: 0.0116, Test Acc: 0.0000\n",
            "Epoch 78/100, Train Loss: 0.0115, Train Acc: 0.0000, Test Loss: 0.0116, Test Acc: 0.0000\n",
            "Epoch 79/100, Train Loss: 0.0115, Train Acc: 0.0000, Test Loss: 0.0117, Test Acc: 0.0000\n",
            "Epoch 80/100, Train Loss: 0.0115, Train Acc: 0.0000, Test Loss: 0.0122, Test Acc: 0.0000\n",
            "Epoch 81/100, Train Loss: 0.0115, Train Acc: 0.0000, Test Loss: 0.0115, Test Acc: 0.0000\n",
            "Epoch 82/100, Train Loss: 0.0115, Train Acc: 0.0000, Test Loss: 0.0115, Test Acc: 0.0000\n",
            "Epoch 83/100, Train Loss: 0.0115, Train Acc: 0.0000, Test Loss: 0.0115, Test Acc: 0.0000\n",
            "Epoch 84/100, Train Loss: 0.0115, Train Acc: 0.0000, Test Loss: 0.0114, Test Acc: 0.0000\n",
            "Epoch 85/100, Train Loss: 0.0114, Train Acc: 0.0000, Test Loss: 0.0118, Test Acc: 0.0000\n",
            "Epoch 86/100, Train Loss: 0.0114, Train Acc: 0.0000, Test Loss: 0.0116, Test Acc: 0.0000\n",
            "Epoch 87/100, Train Loss: 0.0114, Train Acc: 0.0000, Test Loss: 0.0115, Test Acc: 0.0000\n",
            "Epoch 88/100, Train Loss: 0.0114, Train Acc: 0.0000, Test Loss: 0.0115, Test Acc: 0.0000\n",
            "Epoch 89/100, Train Loss: 0.0114, Train Acc: 0.0000, Test Loss: 0.0115, Test Acc: 0.0000\n",
            "Epoch 90/100, Train Loss: 0.0114, Train Acc: 0.0000, Test Loss: 0.0114, Test Acc: 0.0000\n",
            "Epoch 91/100, Train Loss: 0.0114, Train Acc: 0.0000, Test Loss: 0.0116, Test Acc: 0.0000\n",
            "Epoch 92/100, Train Loss: 0.0114, Train Acc: 0.0000, Test Loss: 0.0115, Test Acc: 0.0000\n",
            "Epoch 93/100, Train Loss: 0.0114, Train Acc: 0.0000, Test Loss: 0.0114, Test Acc: 0.0000\n",
            "Epoch 94/100, Train Loss: 0.0114, Train Acc: 0.0000, Test Loss: 0.0114, Test Acc: 0.0000\n",
            "Epoch 95/100, Train Loss: 0.0113, Train Acc: 0.0000, Test Loss: 0.0113, Test Acc: 0.0000\n",
            "Epoch 96/100, Train Loss: 0.0114, Train Acc: 0.0000, Test Loss: 0.0113, Test Acc: 0.0000\n",
            "Epoch 97/100, Train Loss: 0.0113, Train Acc: 0.0000, Test Loss: 0.0116, Test Acc: 0.0000\n",
            "Epoch 98/100, Train Loss: 0.0113, Train Acc: 0.0000, Test Loss: 0.0116, Test Acc: 0.0000\n",
            "Epoch 99/100, Train Loss: 0.0113, Train Acc: 0.0000, Test Loss: 0.0113, Test Acc: 0.0000\n",
            "Epoch 100/100, Train Loss: 0.0113, Train Acc: 0.0000, Test Loss: 0.0113, Test Acc: 0.0000\n"
          ]
        }
      ]
    },
    {
      "cell_type": "code",
      "source": [
        "# Visualazing the results\n",
        "\n",
        "y_pred = predict(model, test_x)\n",
        "y_pred = y_pred.cpu().numpy() # move to cpu before convertion\n",
        "# y_pred = np.argmax(y_pred, axis=1) #Removed because is not a classification\n",
        "y_true = test_x.cpu().numpy() # move to cpu before convertion\n",
        "# y_true = np.argmax(y_true, axis=1) #Removed because is not a classification\n",
        "\n",
        "images_test = [test_x[i].cpu().numpy() for i in range(3)]\n",
        "predictions = [y_pred[i] for i in range(3)]\n",
        "display_images(images_test, predictions)"
      ],
      "metadata": {
        "colab": {
          "base_uri": "https://localhost:8080/",
          "height": 829
        },
        "id": "YH4lc3xrUqbF",
        "outputId": "e3e3fffe-5da3-4a35-d8c3-949293c9be31"
      },
      "execution_count": 49,
      "outputs": [
        {
          "output_type": "display_data",
          "data": {
            "text/plain": [
              "<Figure size 1000x1000 with 6 Axes>"
            ],
            "image/png": "[encoded data removed]"
          },
          "metadata": {}
        }
      ]
    },
    {
      "cell_type": "code",
      "source": [
        "# Getting train and test loss\n",
        "\n",
        "plt.plot(train_losses, label='Train Loss')\n",
        "plt.plot(test_losses, label='Test Loss')\n",
        "plt.xlabel('Epochs')\n",
        "plt.ylabel('Loss')\n",
        "plt.legend()\n",
        "plt.show()"
      ],
      "metadata": {
        "colab": {
          "base_uri": "https://localhost:8080/",
          "height": 449
        },
        "id": "wZLeZxgwWSAM",
        "outputId": "f1f16f4e-9515-4e80-c6c7-8508c720f7f1"
      },
      "execution_count": 50,
      "outputs": [
        {
          "output_type": "display_data",
          "data": {
            "text/plain": [
              "<Figure size 640x480 with 1 Axes>"
            ],
            "image/png": "[encoded data removed]"
          },
          "metadata": {}
        }
      ]
    },
    {
      "cell_type": "code",
      "source": [],
      "metadata": {
        "id": "i6sSGNwRWfRp"
      },
      "execution_count": null,
      "outputs": []
    }
  ]
}